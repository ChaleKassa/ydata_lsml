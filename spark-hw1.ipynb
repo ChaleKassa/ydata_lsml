{
 "cells": [
  {
   "cell_type": "code",
   "execution_count": 4,
   "metadata": {},
   "outputs": [],
   "source": [
    "# Checklist:\n",
    "# AWS emr-5.29.0\n",
    "# MASTER r5d.8xlarge 1x, no EBS\n",
    "# CORE r5d.8xlarge 4x, no EBS\n",
    "# Custom bootstrap action: s3://ydatazian/bootstrap.sh\n",
    "# Allow ssh in master node security group"
   ]
  },
  {
   "cell_type": "code",
   "execution_count": 5,
   "metadata": {},
   "outputs": [],
   "source": [
    "import tqdm.notebook as tqdm\n",
    "import numpy as np\n",
    "import scipy\n",
    "import sklearn\n",
    "import matplotlib.pyplot as plt"
   ]
  },
  {
   "cell_type": "markdown",
   "metadata": {},
   "source": [
    "# SparkSession\n",
    "\n",
    "https://spark.apache.org/docs/2.4.4/api/python/pyspark.html\n",
    "\n",
    "https://spark.apache.org/docs/2.4.4/api/python/pyspark.sql.html"
   ]
  },
  {
   "cell_type": "code",
   "execution_count": 3,
   "metadata": {},
   "outputs": [
    {
     "name": "stdout",
     "output_type": "stream",
     "text": [
      "NameNode: http://ec2-18-208-216-119.compute-1.amazonaws.com:50070\n",
      "YARN: http://ec2-18-208-216-119.compute-1.amazonaws.com:8088\n",
      "Spark UI: http://ec2-18-208-216-119.compute-1.amazonaws.com:20888/proxy/application_1589024657637_0009\n"
     ]
    }
   ],
   "source": [
    "import findspark\n",
    "findspark.init()\n",
    "\n",
    "from pyspark import SparkContext, SparkConf\n",
    "from pyspark.sql import SparkSession\n",
    "conf = SparkConf()\\\n",
    "    .set(\"spark.submit.deployMode\", \"client\")\\\n",
    "    .set(\"spark.driver.memory\", \"32g\")\\\n",
    "    .set(\"spark.driver.maxResultSize\", \"24g\")\n",
    "sc = SparkContext(\"yarn\", \"My App\", conf=conf)\n",
    "se = SparkSession(sc)\n",
    "\n",
    "import spark_utils\n",
    "spark_utils.print_ui_links()"
   ]
  },
  {
   "cell_type": "markdown",
   "metadata": {},
   "source": [
    "# Ephemeral local HDFS"
   ]
  },
  {
   "cell_type": "code",
   "execution_count": 3,
   "metadata": {},
   "outputs": [
    {
     "name": "stdout",
     "output_type": "stream",
     "text": [
      "Filesystem                                  Size    Used  Available  Use%\r\n",
      "hdfs://ip-172-31-25-106.ec2.internal:8020  4.3 T  59.9 G      4.3 T    1%\r\n"
     ]
    }
   ],
   "source": [
    "! hdfs dfs -df -h"
   ]
  },
  {
   "cell_type": "code",
   "execution_count": 4,
   "metadata": {},
   "outputs": [
    {
     "name": "stdout",
     "output_type": "stream",
     "text": [
      "Found 5 items\r\n",
      "drwxr-xr-x   - hadoop hadoop          0 2020-05-09 12:28 /count_per_user.parquet\r\n",
      "drwxr-xr-x   - hadoop hadoop          0 2020-05-09 12:59 /count_per_user.pickle\r\n",
      "drwxrwxrwt   - hdfs   hadoop          0 2020-05-09 11:44 /tmp\r\n",
      "drwxr-xr-x   - hdfs   hadoop          0 2020-05-09 11:44 /user\r\n",
      "drwxr-xr-x   - hdfs   hadoop          0 2020-05-09 11:44 /var\r\n"
     ]
    }
   ],
   "source": [
    "! hdfs dfs -ls /"
   ]
  },
  {
   "cell_type": "markdown",
   "metadata": {},
   "source": [
    "# Persistent S3"
   ]
  },
  {
   "cell_type": "markdown",
   "metadata": {},
   "source": [
    "https://www.kaggle.com/c/outbrain-click-prediction/data"
   ]
  },
  {
   "cell_type": "code",
   "execution_count": 5,
   "metadata": {},
   "outputs": [
    {
     "name": "stdout",
     "output_type": "stream",
     "text": [
      "2020-05-09 11:39:18       1355 bootstrap.sh\r\n",
      "2020-05-07 21:18:30  176843889 clicks_test.parquet\r\n",
      "2020-05-07 21:18:30  495815517 clicks_train.parquet\r\n",
      "2020-05-07 21:18:30   34267065 documents_categories.parquet\r\n",
      "2020-05-07 21:18:30  206455957 documents_entities.parquet\r\n",
      "2020-05-07 21:18:30   23859965 documents_meta.parquet\r\n",
      "2020-05-07 21:18:31  187410196 documents_topics.parquet\r\n",
      "2020-05-07 21:18:32  734643471 events.parquet\r\n",
      "2020-05-07 21:18:35 50764611872 page_views.parquet\r\n",
      "2020-05-07 21:18:35  248421413 page_views_sample.parquet\r\n",
      "2020-05-07 21:18:36    5116927 promoted_content.parquet\r\n",
      "2020-05-07 21:18:36  273136709 sample_submission.csv\r\n"
     ]
    }
   ],
   "source": [
    "! aws s3 ls s3://ydatazian"
   ]
  },
  {
   "cell_type": "markdown",
   "metadata": {},
   "source": [
    "# Read directly from S3"
   ]
  },
  {
   "cell_type": "code",
   "execution_count": 7,
   "metadata": {},
   "outputs": [
    {
     "name": "stdout",
     "output_type": "stream",
     "text": [
      "+--------------+-----------+---------+--------+------------+--------------+\n",
      "|          uuid|document_id|timestamp|platform|geo_location|traffic_source|\n",
      "+--------------+-----------+---------+--------+------------+--------------+\n",
      "|1fd5f051fba643|        120| 31905835|       1|          RS|             2|\n",
      "|8557aa9004be3b|        120| 32053104|       1|       VN>44|             2|\n",
      "|c351b277a358f0|        120| 54013023|       1|       KR>12|             1|\n",
      "|8205775c5387f9|        120| 44196592|       1|       IN>16|             2|\n",
      "|9cb0ccd8458371|        120| 65817371|       1|   US>CA>807|             2|\n",
      "+--------------+-----------+---------+--------+------------+--------------+\n",
      "only showing top 5 rows\n",
      "\n"
     ]
    }
   ],
   "source": [
    "df = se.read.parquet(\"s3://ydatazian/page_views.parquet\")\n",
    "df.show(5)"
   ]
  },
  {
   "cell_type": "markdown",
   "metadata": {},
   "source": [
    "# Register all tables for sql queries"
   ]
  },
  {
   "cell_type": "code",
   "execution_count": 8,
   "metadata": {},
   "outputs": [
    {
     "data": {
      "application/vnd.jupyter.widget-view+json": {
       "model_id": "5fa9573115dd4ab2858eae8626ee082e",
       "version_major": 2,
       "version_minor": 0
      },
      "text/plain": [
       "HBox(children=(FloatProgress(value=0.0, max=10.0), HTML(value='')))"
      ]
     },
     "metadata": {},
     "output_type": "display_data"
    },
    {
     "name": "stdout",
     "output_type": "stream",
     "text": [
      "\n"
     ]
    }
   ],
   "source": [
    "tables = [\"clicks_test\", \"clicks_train\", \n",
    "          \"documents_categories\", \"documents_entities\", \"documents_meta\", \"documents_topics\", \n",
    "          \"events\", \"page_views\", \"page_views_sample\", \"promoted_content\"]\n",
    "for name in tqdm.tqdm(tables):\n",
    "    df = se.read.parquet(\"s3://ydatazian/{}.parquet\".format(name))\n",
    "    df.registerTempTable(name)"
   ]
  },
  {
   "cell_type": "markdown",
   "metadata": {},
   "source": [
    "# Simple SQL query"
   ]
  },
  {
   "cell_type": "code",
   "execution_count": 16,
   "metadata": {},
   "outputs": [
    {
     "name": "stdout",
     "output_type": "stream",
     "text": [
      "CPU times: user 5.4 ms, sys: 4.76 ms, total: 10.2 ms\n",
      "Wall time: 1min 28s\n"
     ]
    }
   ],
   "source": [
    "%%time\n",
    "df = se.sql(\n",
    "\"\"\"\n",
    "select \n",
    "    uuid, \n",
    "    count(1) as cnt\n",
    "from page_views\n",
    "group by uuid\n",
    "\"\"\")\n",
    "df.write.parquet(\"/count_per_user.parquet\", mode='overwrite')"
   ]
  },
  {
   "cell_type": "code",
   "execution_count": 9,
   "metadata": {},
   "outputs": [
    {
     "name": "stdout",
     "output_type": "stream",
     "text": [
      "+--------------+---+\n",
      "|          uuid|cnt|\n",
      "+--------------+---+\n",
      "|7914d4a732710f| 35|\n",
      "|429b241e38f87c| 46|\n",
      "|fa21d050b49c7f|  5|\n",
      "|58e349c28b056a| 14|\n",
      "|8fef9b33a54c96| 20|\n",
      "+--------------+---+\n",
      "only showing top 5 rows\n",
      "\n",
      "CPU times: user 2.74 ms, sys: 0 ns, total: 2.74 ms\n",
      "Wall time: 2.52 s\n"
     ]
    }
   ],
   "source": [
    "%%time\n",
    "se.read.parquet(\"/count_per_user.parquet\").show(5)"
   ]
  },
  {
   "cell_type": "code",
   "execution_count": 10,
   "metadata": {},
   "outputs": [
    {
     "name": "stdout",
     "output_type": "stream",
     "text": [
      "Found 5 items\r\n",
      "drwxr-xr-x   - hadoop hadoop          0 2020-05-09 12:28 /count_per_user.parquet\r\n",
      "drwxr-xr-x   - hadoop hadoop          0 2020-05-09 12:59 /count_per_user.pickle\r\n",
      "drwxrwxrwt   - hdfs   hadoop          0 2020-05-09 11:44 /tmp\r\n",
      "drwxr-xr-x   - hdfs   hadoop          0 2020-05-09 11:44 /user\r\n",
      "drwxr-xr-x   - hdfs   hadoop          0 2020-05-09 11:44 /var\r\n"
     ]
    }
   ],
   "source": [
    "! hdfs dfs -ls /"
   ]
  },
  {
   "cell_type": "markdown",
   "metadata": {},
   "source": [
    "# The same in Python"
   ]
  },
  {
   "cell_type": "code",
   "execution_count": 12,
   "metadata": {},
   "outputs": [
    {
     "name": "stdout",
     "output_type": "stream",
     "text": [
      "DataFrame[uuid: string, document_id: string, timestamp: string, platform: string, geo_location: string, traffic_source: string]\n"
     ]
    }
   ],
   "source": [
    "df = se.table(\"page_views\")\n",
    "print(df)"
   ]
  },
  {
   "cell_type": "code",
   "execution_count": 13,
   "metadata": {},
   "outputs": [
    {
     "name": "stdout",
     "output_type": "stream",
     "text": [
      "MapPartitionsRDD[35] at javaToPython at NativeMethodAccessorImpl.java:0\n",
      "[Row(uuid='1fd5f051fba643', document_id='120', timestamp='31905835', platform='1', geo_location='RS', traffic_source='2')]\n",
      "1fd5f051fba643\n"
     ]
    }
   ],
   "source": [
    "rdd = df.rdd\n",
    "print(rdd)\n",
    "print(rdd.take(1))  # sent to driver (our Jupyter kernel)\n",
    "print(rdd.take(1)[0].uuid)  # Python object"
   ]
  },
  {
   "cell_type": "code",
   "execution_count": 40,
   "metadata": {},
   "outputs": [
    {
     "name": "stdout",
     "output_type": "stream",
     "text": [
      "rmr: DEPRECATED: Please use '-rm -r' instead.\n",
      "Deleted /count_per_user.pickle\n",
      "CPU times: user 97.7 ms, sys: 32.1 ms, total: 130 ms\n",
      "Wall time: 14min 53s\n"
     ]
    }
   ],
   "source": [
    "%%time\n",
    "! hdfs dfs -rm -r /count_per_user.pickle\n",
    "se.table(\"page_views\").rdd\\\n",
    "    .map(lambda x: (x.uuid, 1))\\\n",
    "    .reduceByKey(lambda x, y: x + y)\\\n",
    "    .saveAsPickleFile(\"/count_per_user.pickle\")"
   ]
  },
  {
   "cell_type": "code",
   "execution_count": 16,
   "metadata": {},
   "outputs": [
    {
     "name": "stdout",
     "output_type": "stream",
     "text": [
      "CPU times: user 3.47 ms, sys: 1.16 ms, total: 4.63 ms\n",
      "Wall time: 138 ms\n"
     ]
    },
    {
     "data": {
      "text/plain": [
       "[('b0f6b032431739', 4),\n",
       " ('1e5abf91c71e31', 2),\n",
       " ('fe1ea113092a34', 1),\n",
       " ('7a82ac9d9ece14', 12),\n",
       " ('91e8000d14261d', 1)]"
      ]
     },
     "execution_count": 16,
     "metadata": {},
     "output_type": "execute_result"
    }
   ],
   "source": [
    "%%time\n",
    "sc.pickleFile(\"/count_per_user.pickle\").take(5)"
   ]
  },
  {
   "cell_type": "code",
   "execution_count": 18,
   "metadata": {},
   "outputs": [],
   "source": [
    "# and we can convert it back to Spark DataFrame\n",
    "from pyspark.sql import Row\n",
    "rdd_of_rows = sc.pickleFile(\"/count_per_user.pickle\")\\\n",
    "    .map(lambda x: Row(uuid=x[0], cnt=x[1]))\n",
    "df = se.createDataFrame(rdd_of_rows)\n",
    "df.write.parquet(\"/count_per_user_converted.parquet\", mode='overwrite')"
   ]
  },
  {
   "cell_type": "code",
   "execution_count": 24,
   "metadata": {},
   "outputs": [
    {
     "name": "stdout",
     "output_type": "stream",
     "text": [
      "root\n",
      " |-- cnt: long (nullable = true)\n",
      " |-- uuid: string (nullable = true)\n",
      "\n",
      "+---+--------------+\n",
      "|cnt|          uuid|\n",
      "+---+--------------+\n",
      "| 19|486240c2e0820d|\n",
      "|  2|2bb304e3695a86|\n",
      "|  1|165900d3357d07|\n",
      "|  6|5c59a9bcc45f36|\n",
      "|  3|bf629dd672e0b6|\n",
      "+---+--------------+\n",
      "only showing top 5 rows\n",
      "\n"
     ]
    }
   ],
   "source": [
    "df = se.read.parquet(\"/count_per_user_converted.parquet\")\n",
    "df.printSchema()\n",
    "df.show(5)"
   ]
  },
  {
   "cell_type": "code",
   "execution_count": null,
   "metadata": {},
   "outputs": [],
   "source": [
    "! hdfs dfs -du -sh /"
   ]
  },
  {
   "cell_type": "markdown",
   "metadata": {},
   "source": [
    "# Collect data on the driver"
   ]
  },
  {
   "cell_type": "code",
   "execution_count": 8,
   "metadata": {},
   "outputs": [
    {
     "name": "stdout",
     "output_type": "stream",
     "text": [
      "CPU times: user 14.6 s, sys: 2.45 s, total: 17 s\n",
      "Wall time: 1min 27s\n"
     ]
    }
   ],
   "source": [
    "%%time\n",
    "counts = se.read.parquet(\"/count_per_user_converted.parquet\").rdd\\\n",
    "    .map(lambda x: x.cnt)\\\n",
    "    .collect()"
   ]
  },
  {
   "cell_type": "code",
   "execution_count": 7,
   "metadata": {},
   "outputs": [
    {
     "data": {
      "image/png": "[encoded data removed]",
      "text/plain": [
       "<Figure size 432x288 with 1 Axes>"
      ]
     },
     "metadata": {
      "needs_background": "light"
     },
     "output_type": "display_data"
    }
   ],
   "source": [
    "_ = plt.hist(counts, bins=100)"
   ]
  },
  {
   "cell_type": "markdown",
   "metadata": {},
   "source": [
    "# Homework 1: Spark EDA"
   ]
  },
  {
   "cell_type": "code",
   "execution_count": null,
   "metadata": {},
   "outputs": [],
   "source": [
    "# TODO"
   ]
  }
 ],
 "metadata": {
  "kernelspec": {
   "display_name": "Python 3",
   "language": "python",
   "name": "python3"
  },
  "language_info": {
   "codemirror_mode": {
    "name": "ipython",
    "version": 3
   },
   "file_extension": ".py",
   "mimetype": "text/x-python",
   "name": "python",
   "nbconvert_exporter": "python",
   "pygments_lexer": "ipython3",
   "version": "3.6.8"
  }
 },
 "nbformat": 4,
 "nbformat_minor": 4
}
